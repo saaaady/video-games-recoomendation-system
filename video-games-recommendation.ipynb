{
 "cells": [
  {
   "cell_type": "code",
   "execution_count": 1,
   "metadata": {},
   "outputs": [],
   "source": [
    "#Importing libraries for ast eval and pandas for cleaning\n",
    "import pandas as pd\n",
    "import ast"
   ]
  },
  {
   "cell_type": "code",
   "execution_count": 2,
   "metadata": {},
   "outputs": [],
   "source": [
    "#Reading CSV file\n",
    "games=pd.read_csv('kaggle video game dataset.csv')"
   ]
  },
  {
   "cell_type": "code",
   "execution_count": 3,
   "metadata": {},
   "outputs": [
    {
     "data": {
      "text/html": [
       "<div>\n",
       "<style scoped>\n",
       "    .dataframe tbody tr th:only-of-type {\n",
       "        vertical-align: middle;\n",
       "    }\n",
       "\n",
       "    .dataframe tbody tr th {\n",
       "        vertical-align: top;\n",
       "    }\n",
       "\n",
       "    .dataframe thead th {\n",
       "        text-align: right;\n",
       "    }\n",
       "</style>\n",
       "<table border=\"1\" class=\"dataframe\">\n",
       "  <thead>\n",
       "    <tr style=\"text-align: right;\">\n",
       "      <th></th>\n",
       "      <th>Title</th>\n",
       "      <th>Release Date</th>\n",
       "      <th>Developer</th>\n",
       "      <th>Publisher</th>\n",
       "      <th>Genres</th>\n",
       "      <th>Product Rating</th>\n",
       "      <th>User Score</th>\n",
       "      <th>User Ratings Count</th>\n",
       "      <th>Platforms Info</th>\n",
       "    </tr>\n",
       "  </thead>\n",
       "  <tbody>\n",
       "    <tr>\n",
       "      <th>0</th>\n",
       "      <td>Ziggurat (2012)</td>\n",
       "      <td>2/17/2012</td>\n",
       "      <td>Action Button Entertainment</td>\n",
       "      <td>Freshuu Inc.</td>\n",
       "      <td>Action</td>\n",
       "      <td>NaN</td>\n",
       "      <td>6.9</td>\n",
       "      <td>14.0</td>\n",
       "      <td>[{'Platform': 'iOS (iPhone/iPad)', 'Platform M...</td>\n",
       "    </tr>\n",
       "    <tr>\n",
       "      <th>1</th>\n",
       "      <td>4X4 EVO 2</td>\n",
       "      <td>11/15/2001</td>\n",
       "      <td>Terminal Reality</td>\n",
       "      <td>Gathering</td>\n",
       "      <td>Auto Racing Sim</td>\n",
       "      <td>Rated E For Everyone</td>\n",
       "      <td>NaN</td>\n",
       "      <td>NaN</td>\n",
       "      <td>[{'Platform': 'Xbox', 'Platform Metascore': '5...</td>\n",
       "    </tr>\n",
       "    <tr>\n",
       "      <th>2</th>\n",
       "      <td>MotoGP 2 (2001)</td>\n",
       "      <td>1/22/2002</td>\n",
       "      <td>Namco</td>\n",
       "      <td>Namco</td>\n",
       "      <td>Auto Racing Sim</td>\n",
       "      <td>Rated E For Everyone</td>\n",
       "      <td>5.8</td>\n",
       "      <td>NaN</td>\n",
       "      <td>[{'Platform': 'PlayStation 2', 'Platform Metas...</td>\n",
       "    </tr>\n",
       "    <tr>\n",
       "      <th>3</th>\n",
       "      <td>Gothic 3</td>\n",
       "      <td>11/14/2006</td>\n",
       "      <td>Piranha Bytes</td>\n",
       "      <td>Aspyr</td>\n",
       "      <td>Western RPG</td>\n",
       "      <td>Rated T For Teen</td>\n",
       "      <td>7.5</td>\n",
       "      <td>832.0</td>\n",
       "      <td>[{'Platform': 'PC', 'Platform Metascore': '63'...</td>\n",
       "    </tr>\n",
       "    <tr>\n",
       "      <th>4</th>\n",
       "      <td>Siege Survival: Gloria Victis</td>\n",
       "      <td>5/18/2021</td>\n",
       "      <td>FishTankStudio</td>\n",
       "      <td>Black Eye Games</td>\n",
       "      <td>RPG</td>\n",
       "      <td>NaN</td>\n",
       "      <td>6.5</td>\n",
       "      <td>10.0</td>\n",
       "      <td>[{'Platform': 'PC', 'Platform Metascore': '69'...</td>\n",
       "    </tr>\n",
       "  </tbody>\n",
       "</table>\n",
       "</div>"
      ],
      "text/plain": [
       "                           Title Release Date                    Developer  \\\n",
       "0                Ziggurat (2012)    2/17/2012  Action Button Entertainment   \n",
       "1                      4X4 EVO 2   11/15/2001             Terminal Reality   \n",
       "2                MotoGP 2 (2001)    1/22/2002                        Namco   \n",
       "3                       Gothic 3   11/14/2006                Piranha Bytes   \n",
       "4  Siege Survival: Gloria Victis    5/18/2021               FishTankStudio   \n",
       "\n",
       "         Publisher           Genres        Product Rating  User Score  \\\n",
       "0     Freshuu Inc.           Action                   NaN         6.9   \n",
       "1        Gathering  Auto Racing Sim  Rated E For Everyone         NaN   \n",
       "2            Namco  Auto Racing Sim  Rated E For Everyone         5.8   \n",
       "3            Aspyr      Western RPG      Rated T For Teen         7.5   \n",
       "4  Black Eye Games              RPG                   NaN         6.5   \n",
       "\n",
       "   User Ratings Count                                     Platforms Info  \n",
       "0                14.0  [{'Platform': 'iOS (iPhone/iPad)', 'Platform M...  \n",
       "1                 NaN  [{'Platform': 'Xbox', 'Platform Metascore': '5...  \n",
       "2                 NaN  [{'Platform': 'PlayStation 2', 'Platform Metas...  \n",
       "3               832.0  [{'Platform': 'PC', 'Platform Metascore': '63'...  \n",
       "4                10.0  [{'Platform': 'PC', 'Platform Metascore': '69'...  "
      ]
     },
     "execution_count": 3,
     "metadata": {},
     "output_type": "execute_result"
    }
   ],
   "source": [
    "games.head()"
   ]
  },
  {
   "cell_type": "code",
   "execution_count": 4,
   "metadata": {},
   "outputs": [
    {
     "data": {
      "text/plain": [
       "\"[{'Platform': 'PC', 'Platform Metascore': '69', 'Platform Metascore Count': 'Based on 12 Critic Reviews'}]\""
      ]
     },
     "execution_count": 4,
     "metadata": {},
     "output_type": "execute_result"
    }
   ],
   "source": [
    "games['Platforms Info'].iloc[4]"
   ]
  },
  {
   "cell_type": "code",
   "execution_count": 5,
   "metadata": {},
   "outputs": [],
   "source": [
    "#Dropping Release Date, Publisher, Product rating and user score as redundant to our analysis\n",
    "games=games[['Title','Developer','Genres','Platforms Info']]"
   ]
  },
  {
   "cell_type": "code",
   "execution_count": 6,
   "metadata": {},
   "outputs": [
    {
     "data": {
      "text/html": [
       "<div>\n",
       "<style scoped>\n",
       "    .dataframe tbody tr th:only-of-type {\n",
       "        vertical-align: middle;\n",
       "    }\n",
       "\n",
       "    .dataframe tbody tr th {\n",
       "        vertical-align: top;\n",
       "    }\n",
       "\n",
       "    .dataframe thead th {\n",
       "        text-align: right;\n",
       "    }\n",
       "</style>\n",
       "<table border=\"1\" class=\"dataframe\">\n",
       "  <thead>\n",
       "    <tr style=\"text-align: right;\">\n",
       "      <th></th>\n",
       "      <th>Title</th>\n",
       "      <th>Developer</th>\n",
       "      <th>Genres</th>\n",
       "      <th>Platforms Info</th>\n",
       "    </tr>\n",
       "  </thead>\n",
       "  <tbody>\n",
       "    <tr>\n",
       "      <th>0</th>\n",
       "      <td>Ziggurat (2012)</td>\n",
       "      <td>Action Button Entertainment</td>\n",
       "      <td>Action</td>\n",
       "      <td>[{'Platform': 'iOS (iPhone/iPad)', 'Platform M...</td>\n",
       "    </tr>\n",
       "    <tr>\n",
       "      <th>1</th>\n",
       "      <td>4X4 EVO 2</td>\n",
       "      <td>Terminal Reality</td>\n",
       "      <td>Auto Racing Sim</td>\n",
       "      <td>[{'Platform': 'Xbox', 'Platform Metascore': '5...</td>\n",
       "    </tr>\n",
       "    <tr>\n",
       "      <th>2</th>\n",
       "      <td>MotoGP 2 (2001)</td>\n",
       "      <td>Namco</td>\n",
       "      <td>Auto Racing Sim</td>\n",
       "      <td>[{'Platform': 'PlayStation 2', 'Platform Metas...</td>\n",
       "    </tr>\n",
       "    <tr>\n",
       "      <th>3</th>\n",
       "      <td>Gothic 3</td>\n",
       "      <td>Piranha Bytes</td>\n",
       "      <td>Western RPG</td>\n",
       "      <td>[{'Platform': 'PC', 'Platform Metascore': '63'...</td>\n",
       "    </tr>\n",
       "    <tr>\n",
       "      <th>4</th>\n",
       "      <td>Siege Survival: Gloria Victis</td>\n",
       "      <td>FishTankStudio</td>\n",
       "      <td>RPG</td>\n",
       "      <td>[{'Platform': 'PC', 'Platform Metascore': '69'...</td>\n",
       "    </tr>\n",
       "  </tbody>\n",
       "</table>\n",
       "</div>"
      ],
      "text/plain": [
       "                           Title                    Developer  \\\n",
       "0                Ziggurat (2012)  Action Button Entertainment   \n",
       "1                      4X4 EVO 2             Terminal Reality   \n",
       "2                MotoGP 2 (2001)                        Namco   \n",
       "3                       Gothic 3                Piranha Bytes   \n",
       "4  Siege Survival: Gloria Victis               FishTankStudio   \n",
       "\n",
       "            Genres                                     Platforms Info  \n",
       "0           Action  [{'Platform': 'iOS (iPhone/iPad)', 'Platform M...  \n",
       "1  Auto Racing Sim  [{'Platform': 'Xbox', 'Platform Metascore': '5...  \n",
       "2  Auto Racing Sim  [{'Platform': 'PlayStation 2', 'Platform Metas...  \n",
       "3      Western RPG  [{'Platform': 'PC', 'Platform Metascore': '63'...  \n",
       "4              RPG  [{'Platform': 'PC', 'Platform Metascore': '69'...  "
      ]
     },
     "execution_count": 6,
     "metadata": {},
     "output_type": "execute_result"
    }
   ],
   "source": [
    "games.head()"
   ]
  },
  {
   "cell_type": "code",
   "execution_count": 7,
   "metadata": {},
   "outputs": [],
   "source": [
    "#Renaming Columns\n",
    "games=games.rename(columns={'Platforms Info': 'Platform Info','Genres':'Genre'})"
   ]
  },
  {
   "cell_type": "code",
   "execution_count": 8,
   "metadata": {},
   "outputs": [
    {
     "data": {
      "text/html": [
       "<div>\n",
       "<style scoped>\n",
       "    .dataframe tbody tr th:only-of-type {\n",
       "        vertical-align: middle;\n",
       "    }\n",
       "\n",
       "    .dataframe tbody tr th {\n",
       "        vertical-align: top;\n",
       "    }\n",
       "\n",
       "    .dataframe thead th {\n",
       "        text-align: right;\n",
       "    }\n",
       "</style>\n",
       "<table border=\"1\" class=\"dataframe\">\n",
       "  <thead>\n",
       "    <tr style=\"text-align: right;\">\n",
       "      <th></th>\n",
       "      <th>Title</th>\n",
       "      <th>Developer</th>\n",
       "      <th>Genre</th>\n",
       "      <th>Platform Info</th>\n",
       "    </tr>\n",
       "  </thead>\n",
       "  <tbody>\n",
       "    <tr>\n",
       "      <th>0</th>\n",
       "      <td>Ziggurat (2012)</td>\n",
       "      <td>Action Button Entertainment</td>\n",
       "      <td>Action</td>\n",
       "      <td>[{'Platform': 'iOS (iPhone/iPad)', 'Platform M...</td>\n",
       "    </tr>\n",
       "    <tr>\n",
       "      <th>1</th>\n",
       "      <td>4X4 EVO 2</td>\n",
       "      <td>Terminal Reality</td>\n",
       "      <td>Auto Racing Sim</td>\n",
       "      <td>[{'Platform': 'Xbox', 'Platform Metascore': '5...</td>\n",
       "    </tr>\n",
       "    <tr>\n",
       "      <th>2</th>\n",
       "      <td>MotoGP 2 (2001)</td>\n",
       "      <td>Namco</td>\n",
       "      <td>Auto Racing Sim</td>\n",
       "      <td>[{'Platform': 'PlayStation 2', 'Platform Metas...</td>\n",
       "    </tr>\n",
       "    <tr>\n",
       "      <th>3</th>\n",
       "      <td>Gothic 3</td>\n",
       "      <td>Piranha Bytes</td>\n",
       "      <td>Western RPG</td>\n",
       "      <td>[{'Platform': 'PC', 'Platform Metascore': '63'...</td>\n",
       "    </tr>\n",
       "    <tr>\n",
       "      <th>4</th>\n",
       "      <td>Siege Survival: Gloria Victis</td>\n",
       "      <td>FishTankStudio</td>\n",
       "      <td>RPG</td>\n",
       "      <td>[{'Platform': 'PC', 'Platform Metascore': '69'...</td>\n",
       "    </tr>\n",
       "  </tbody>\n",
       "</table>\n",
       "</div>"
      ],
      "text/plain": [
       "                           Title                    Developer  \\\n",
       "0                Ziggurat (2012)  Action Button Entertainment   \n",
       "1                      4X4 EVO 2             Terminal Reality   \n",
       "2                MotoGP 2 (2001)                        Namco   \n",
       "3                       Gothic 3                Piranha Bytes   \n",
       "4  Siege Survival: Gloria Victis               FishTankStudio   \n",
       "\n",
       "             Genre                                      Platform Info  \n",
       "0           Action  [{'Platform': 'iOS (iPhone/iPad)', 'Platform M...  \n",
       "1  Auto Racing Sim  [{'Platform': 'Xbox', 'Platform Metascore': '5...  \n",
       "2  Auto Racing Sim  [{'Platform': 'PlayStation 2', 'Platform Metas...  \n",
       "3      Western RPG  [{'Platform': 'PC', 'Platform Metascore': '63'...  \n",
       "4              RPG  [{'Platform': 'PC', 'Platform Metascore': '69'...  "
      ]
     },
     "execution_count": 8,
     "metadata": {},
     "output_type": "execute_result"
    }
   ],
   "source": [
    "games.head()"
   ]
  },
  {
   "cell_type": "code",
   "execution_count": 9,
   "metadata": {},
   "outputs": [
    {
     "data": {
      "text/plain": [
       "Title             21\n",
       "Developer        138\n",
       "Genre             21\n",
       "Platform Info      0\n",
       "dtype: int64"
      ]
     },
     "execution_count": 9,
     "metadata": {},
     "output_type": "execute_result"
    }
   ],
   "source": [
    "#Checking for nulls\n",
    "games.isnull().sum()"
   ]
  },
  {
   "cell_type": "code",
   "execution_count": 10,
   "metadata": {},
   "outputs": [],
   "source": [
    "#Dropping nulls\n",
    "games.dropna(inplace=True)"
   ]
  },
  {
   "cell_type": "code",
   "execution_count": 11,
   "metadata": {},
   "outputs": [
    {
     "data": {
      "text/plain": [
       "Title            0\n",
       "Developer        0\n",
       "Genre            0\n",
       "Platform Info    0\n",
       "dtype: int64"
      ]
     },
     "execution_count": 11,
     "metadata": {},
     "output_type": "execute_result"
    }
   ],
   "source": [
    "games.isnull().sum()"
   ]
  },
  {
   "cell_type": "code",
   "execution_count": 12,
   "metadata": {},
   "outputs": [
    {
     "data": {
      "text/html": [
       "<div>\n",
       "<style scoped>\n",
       "    .dataframe tbody tr th:only-of-type {\n",
       "        vertical-align: middle;\n",
       "    }\n",
       "\n",
       "    .dataframe tbody tr th {\n",
       "        vertical-align: top;\n",
       "    }\n",
       "\n",
       "    .dataframe thead th {\n",
       "        text-align: right;\n",
       "    }\n",
       "</style>\n",
       "<table border=\"1\" class=\"dataframe\">\n",
       "  <thead>\n",
       "    <tr style=\"text-align: right;\">\n",
       "      <th></th>\n",
       "      <th>Title</th>\n",
       "      <th>Developer</th>\n",
       "      <th>Genre</th>\n",
       "      <th>Platform Info</th>\n",
       "    </tr>\n",
       "  </thead>\n",
       "  <tbody>\n",
       "    <tr>\n",
       "      <th>0</th>\n",
       "      <td>Ziggurat (2012)</td>\n",
       "      <td>Action Button Entertainment</td>\n",
       "      <td>Action</td>\n",
       "      <td>[{'Platform': 'iOS (iPhone/iPad)', 'Platform M...</td>\n",
       "    </tr>\n",
       "    <tr>\n",
       "      <th>1</th>\n",
       "      <td>4X4 EVO 2</td>\n",
       "      <td>Terminal Reality</td>\n",
       "      <td>Auto Racing Sim</td>\n",
       "      <td>[{'Platform': 'Xbox', 'Platform Metascore': '5...</td>\n",
       "    </tr>\n",
       "    <tr>\n",
       "      <th>2</th>\n",
       "      <td>MotoGP 2 (2001)</td>\n",
       "      <td>Namco</td>\n",
       "      <td>Auto Racing Sim</td>\n",
       "      <td>[{'Platform': 'PlayStation 2', 'Platform Metas...</td>\n",
       "    </tr>\n",
       "    <tr>\n",
       "      <th>3</th>\n",
       "      <td>Gothic 3</td>\n",
       "      <td>Piranha Bytes</td>\n",
       "      <td>Western RPG</td>\n",
       "      <td>[{'Platform': 'PC', 'Platform Metascore': '63'...</td>\n",
       "    </tr>\n",
       "    <tr>\n",
       "      <th>4</th>\n",
       "      <td>Siege Survival: Gloria Victis</td>\n",
       "      <td>FishTankStudio</td>\n",
       "      <td>RPG</td>\n",
       "      <td>[{'Platform': 'PC', 'Platform Metascore': '69'...</td>\n",
       "    </tr>\n",
       "    <tr>\n",
       "      <th>...</th>\n",
       "      <td>...</td>\n",
       "      <td>...</td>\n",
       "      <td>...</td>\n",
       "      <td>...</td>\n",
       "    </tr>\n",
       "    <tr>\n",
       "      <th>14050</th>\n",
       "      <td>Dragon Age: Origins - Awakening</td>\n",
       "      <td>BioWare</td>\n",
       "      <td>Western RPG</td>\n",
       "      <td>[{'Platform': 'PlayStation 3', 'Platform Metas...</td>\n",
       "    </tr>\n",
       "    <tr>\n",
       "      <th>14051</th>\n",
       "      <td>Lover Pretend</td>\n",
       "      <td>Idea Factory</td>\n",
       "      <td>Visual Novel</td>\n",
       "      <td>[{'Platform': 'Nintendo Switch', 'Platform Met...</td>\n",
       "    </tr>\n",
       "    <tr>\n",
       "      <th>14052</th>\n",
       "      <td>Alice: Madness Returns</td>\n",
       "      <td>Spicy Horse</td>\n",
       "      <td>Survival</td>\n",
       "      <td>[{'Platform': 'PC', 'Platform Metascore': '75'...</td>\n",
       "    </tr>\n",
       "    <tr>\n",
       "      <th>14053</th>\n",
       "      <td>Concrete Genie</td>\n",
       "      <td>Pixel Opus</td>\n",
       "      <td>Third-Person Adventure</td>\n",
       "      <td>[{'Platform': 'PlayStation 4', 'Platform Metas...</td>\n",
       "    </tr>\n",
       "    <tr>\n",
       "      <th>14054</th>\n",
       "      <td>Lemony Snicket's A Series of Unfortunate Event...</td>\n",
       "      <td>Griptonite Games</td>\n",
       "      <td>3D Platformer</td>\n",
       "      <td>[{'Platform': 'Game Boy Advance', 'Platform Me...</td>\n",
       "    </tr>\n",
       "  </tbody>\n",
       "</table>\n",
       "<p>13917 rows × 4 columns</p>\n",
       "</div>"
      ],
      "text/plain": [
       "                                                   Title  \\\n",
       "0                                        Ziggurat (2012)   \n",
       "1                                              4X4 EVO 2   \n",
       "2                                        MotoGP 2 (2001)   \n",
       "3                                               Gothic 3   \n",
       "4                          Siege Survival: Gloria Victis   \n",
       "...                                                  ...   \n",
       "14050                    Dragon Age: Origins - Awakening   \n",
       "14051                                      Lover Pretend   \n",
       "14052                             Alice: Madness Returns   \n",
       "14053                                     Concrete Genie   \n",
       "14054  Lemony Snicket's A Series of Unfortunate Event...   \n",
       "\n",
       "                         Developer                   Genre  \\\n",
       "0      Action Button Entertainment                  Action   \n",
       "1                 Terminal Reality         Auto Racing Sim   \n",
       "2                            Namco         Auto Racing Sim   \n",
       "3                    Piranha Bytes             Western RPG   \n",
       "4                   FishTankStudio                     RPG   \n",
       "...                            ...                     ...   \n",
       "14050                      BioWare             Western RPG   \n",
       "14051                 Idea Factory            Visual Novel   \n",
       "14052                  Spicy Horse                Survival   \n",
       "14053                   Pixel Opus  Third-Person Adventure   \n",
       "14054             Griptonite Games           3D Platformer   \n",
       "\n",
       "                                           Platform Info  \n",
       "0      [{'Platform': 'iOS (iPhone/iPad)', 'Platform M...  \n",
       "1      [{'Platform': 'Xbox', 'Platform Metascore': '5...  \n",
       "2      [{'Platform': 'PlayStation 2', 'Platform Metas...  \n",
       "3      [{'Platform': 'PC', 'Platform Metascore': '63'...  \n",
       "4      [{'Platform': 'PC', 'Platform Metascore': '69'...  \n",
       "...                                                  ...  \n",
       "14050  [{'Platform': 'PlayStation 3', 'Platform Metas...  \n",
       "14051  [{'Platform': 'Nintendo Switch', 'Platform Met...  \n",
       "14052  [{'Platform': 'PC', 'Platform Metascore': '75'...  \n",
       "14053  [{'Platform': 'PlayStation 4', 'Platform Metas...  \n",
       "14054  [{'Platform': 'Game Boy Advance', 'Platform Me...  \n",
       "\n",
       "[13917 rows x 4 columns]"
      ]
     },
     "execution_count": 12,
     "metadata": {},
     "output_type": "execute_result"
    }
   ],
   "source": [
    "games"
   ]
  },
  {
   "cell_type": "code",
   "execution_count": 13,
   "metadata": {},
   "outputs": [],
   "source": [
    "s=games['Platform Info'].iloc[1]"
   ]
  },
  {
   "cell_type": "code",
   "execution_count": 14,
   "metadata": {},
   "outputs": [
    {
     "data": {
      "text/plain": [
       "\"[{'Platform': 'Xbox', 'Platform Metascore': '59', 'Platform Metascore Count': 'Based on 15 Critic Reviews'}, {'Platform': 'PC', 'Platform Metascore': '69', 'Platform Metascore Count': 'Based on 9 Critic Reviews'}, {'Platform': 'GameCube', 'Platform Metascore': '56', 'Platform Metascore Count': 'Based on 7 Critic Reviews'}]\""
      ]
     },
     "execution_count": 14,
     "metadata": {},
     "output_type": "execute_result"
    }
   ],
   "source": [
    "s"
   ]
  },
  {
   "cell_type": "code",
   "execution_count": 15,
   "metadata": {},
   "outputs": [],
   "source": [
    "s=ast.literal_eval(s)"
   ]
  },
  {
   "cell_type": "code",
   "execution_count": 16,
   "metadata": {},
   "outputs": [],
   "source": [
    "def convert(input):\n",
    "    return ast.literal_eval(input)\n",
    "    "
   ]
  },
  {
   "cell_type": "code",
   "execution_count": 17,
   "metadata": {},
   "outputs": [],
   "source": [
    "#Using ast literal to remove string covering from list of dicts\n",
    "games['Platform Info']=games['Platform Info'].apply(convert)"
   ]
  },
  {
   "cell_type": "code",
   "execution_count": 18,
   "metadata": {},
   "outputs": [
    {
     "data": {
      "text/plain": [
       "[{'Platform': 'PC',\n",
       "  'Platform Metascore': '63',\n",
       "  'Platform Metascore Count': 'Based on 39 Critic Reviews'}]"
      ]
     },
     "execution_count": 18,
     "metadata": {},
     "output_type": "execute_result"
    }
   ],
   "source": [
    "games['Platform Info'].iloc[3]"
   ]
  },
  {
   "cell_type": "code",
   "execution_count": 19,
   "metadata": {},
   "outputs": [],
   "source": [
    "def extract_platform(input):\n",
    "    lst=[]\n",
    "    try: \n",
    "        lst.append(input[0]['Platform'])\n",
    "    except:\n",
    "        lst.append('notaval')\n",
    "    return lst    "
   ]
  },
  {
   "cell_type": "code",
   "execution_count": 20,
   "metadata": {},
   "outputs": [
    {
     "data": {
      "text/plain": [
       "['Xbox']"
      ]
     },
     "execution_count": 20,
     "metadata": {},
     "output_type": "execute_result"
    }
   ],
   "source": [
    "extract_platform(s)"
   ]
  },
  {
   "cell_type": "code",
   "execution_count": 21,
   "metadata": {},
   "outputs": [],
   "source": [
    "# Using extract platform function to extract platforms from dict of each game\n",
    "games['Platform Info']=games['Platform Info'].apply(extract_platform)"
   ]
  },
  {
   "cell_type": "code",
   "execution_count": 22,
   "metadata": {},
   "outputs": [
    {
     "data": {
      "text/html": [
       "<div>\n",
       "<style scoped>\n",
       "    .dataframe tbody tr th:only-of-type {\n",
       "        vertical-align: middle;\n",
       "    }\n",
       "\n",
       "    .dataframe tbody tr th {\n",
       "        vertical-align: top;\n",
       "    }\n",
       "\n",
       "    .dataframe thead th {\n",
       "        text-align: right;\n",
       "    }\n",
       "</style>\n",
       "<table border=\"1\" class=\"dataframe\">\n",
       "  <thead>\n",
       "    <tr style=\"text-align: right;\">\n",
       "      <th></th>\n",
       "      <th>Title</th>\n",
       "      <th>Developer</th>\n",
       "      <th>Genre</th>\n",
       "      <th>Platform Info</th>\n",
       "    </tr>\n",
       "  </thead>\n",
       "  <tbody>\n",
       "    <tr>\n",
       "      <th>0</th>\n",
       "      <td>Ziggurat (2012)</td>\n",
       "      <td>Action Button Entertainment</td>\n",
       "      <td>Action</td>\n",
       "      <td>[iOS (iPhone/iPad)]</td>\n",
       "    </tr>\n",
       "    <tr>\n",
       "      <th>1</th>\n",
       "      <td>4X4 EVO 2</td>\n",
       "      <td>Terminal Reality</td>\n",
       "      <td>Auto Racing Sim</td>\n",
       "      <td>[Xbox]</td>\n",
       "    </tr>\n",
       "    <tr>\n",
       "      <th>2</th>\n",
       "      <td>MotoGP 2 (2001)</td>\n",
       "      <td>Namco</td>\n",
       "      <td>Auto Racing Sim</td>\n",
       "      <td>[PlayStation 2]</td>\n",
       "    </tr>\n",
       "    <tr>\n",
       "      <th>3</th>\n",
       "      <td>Gothic 3</td>\n",
       "      <td>Piranha Bytes</td>\n",
       "      <td>Western RPG</td>\n",
       "      <td>[PC]</td>\n",
       "    </tr>\n",
       "    <tr>\n",
       "      <th>4</th>\n",
       "      <td>Siege Survival: Gloria Victis</td>\n",
       "      <td>FishTankStudio</td>\n",
       "      <td>RPG</td>\n",
       "      <td>[PC]</td>\n",
       "    </tr>\n",
       "  </tbody>\n",
       "</table>\n",
       "</div>"
      ],
      "text/plain": [
       "                           Title                    Developer  \\\n",
       "0                Ziggurat (2012)  Action Button Entertainment   \n",
       "1                      4X4 EVO 2             Terminal Reality   \n",
       "2                MotoGP 2 (2001)                        Namco   \n",
       "3                       Gothic 3                Piranha Bytes   \n",
       "4  Siege Survival: Gloria Victis               FishTankStudio   \n",
       "\n",
       "             Genre        Platform Info  \n",
       "0           Action  [iOS (iPhone/iPad)]  \n",
       "1  Auto Racing Sim               [Xbox]  \n",
       "2  Auto Racing Sim      [PlayStation 2]  \n",
       "3      Western RPG                 [PC]  \n",
       "4              RPG                 [PC]  "
      ]
     },
     "execution_count": 22,
     "metadata": {},
     "output_type": "execute_result"
    }
   ],
   "source": [
    "games.head()"
   ]
  },
  {
   "cell_type": "code",
   "execution_count": 23,
   "metadata": {},
   "outputs": [],
   "source": [
    "games['Original Title']=games['Title']\n",
    "games['Title']=games['Title'].apply(lambda x:x.split(' '))"
   ]
  },
  {
   "cell_type": "code",
   "execution_count": 24,
   "metadata": {},
   "outputs": [],
   "source": [
    "games['Developer']=games['Developer'].apply(lambda x:x.split(' '))"
   ]
  },
  {
   "cell_type": "code",
   "execution_count": 25,
   "metadata": {},
   "outputs": [],
   "source": [
    "games['Genre']=games['Genre'].apply(lambda x:x.split(' '))"
   ]
  },
  {
   "cell_type": "code",
   "execution_count": 26,
   "metadata": {},
   "outputs": [
    {
     "data": {
      "text/html": [
       "<div>\n",
       "<style scoped>\n",
       "    .dataframe tbody tr th:only-of-type {\n",
       "        vertical-align: middle;\n",
       "    }\n",
       "\n",
       "    .dataframe tbody tr th {\n",
       "        vertical-align: top;\n",
       "    }\n",
       "\n",
       "    .dataframe thead th {\n",
       "        text-align: right;\n",
       "    }\n",
       "</style>\n",
       "<table border=\"1\" class=\"dataframe\">\n",
       "  <thead>\n",
       "    <tr style=\"text-align: right;\">\n",
       "      <th></th>\n",
       "      <th>Title</th>\n",
       "      <th>Developer</th>\n",
       "      <th>Genre</th>\n",
       "      <th>Platform Info</th>\n",
       "      <th>Original Title</th>\n",
       "    </tr>\n",
       "  </thead>\n",
       "  <tbody>\n",
       "    <tr>\n",
       "      <th>0</th>\n",
       "      <td>[Ziggurat, (2012)]</td>\n",
       "      <td>[Action, Button, Entertainment]</td>\n",
       "      <td>[Action]</td>\n",
       "      <td>[iOS (iPhone/iPad)]</td>\n",
       "      <td>Ziggurat (2012)</td>\n",
       "    </tr>\n",
       "    <tr>\n",
       "      <th>1</th>\n",
       "      <td>[4X4, EVO, 2]</td>\n",
       "      <td>[Terminal, Reality]</td>\n",
       "      <td>[Auto, Racing, Sim]</td>\n",
       "      <td>[Xbox]</td>\n",
       "      <td>4X4 EVO 2</td>\n",
       "    </tr>\n",
       "    <tr>\n",
       "      <th>2</th>\n",
       "      <td>[MotoGP, 2, (2001)]</td>\n",
       "      <td>[Namco]</td>\n",
       "      <td>[Auto, Racing, Sim]</td>\n",
       "      <td>[PlayStation 2]</td>\n",
       "      <td>MotoGP 2 (2001)</td>\n",
       "    </tr>\n",
       "    <tr>\n",
       "      <th>3</th>\n",
       "      <td>[Gothic, 3]</td>\n",
       "      <td>[Piranha, Bytes]</td>\n",
       "      <td>[Western, RPG]</td>\n",
       "      <td>[PC]</td>\n",
       "      <td>Gothic 3</td>\n",
       "    </tr>\n",
       "    <tr>\n",
       "      <th>4</th>\n",
       "      <td>[Siege, Survival:, Gloria, Victis]</td>\n",
       "      <td>[FishTankStudio]</td>\n",
       "      <td>[RPG]</td>\n",
       "      <td>[PC]</td>\n",
       "      <td>Siege Survival: Gloria Victis</td>\n",
       "    </tr>\n",
       "  </tbody>\n",
       "</table>\n",
       "</div>"
      ],
      "text/plain": [
       "                                Title                        Developer  \\\n",
       "0                  [Ziggurat, (2012)]  [Action, Button, Entertainment]   \n",
       "1                       [4X4, EVO, 2]              [Terminal, Reality]   \n",
       "2                 [MotoGP, 2, (2001)]                          [Namco]   \n",
       "3                         [Gothic, 3]                 [Piranha, Bytes]   \n",
       "4  [Siege, Survival:, Gloria, Victis]                 [FishTankStudio]   \n",
       "\n",
       "                 Genre        Platform Info                 Original Title  \n",
       "0             [Action]  [iOS (iPhone/iPad)]                Ziggurat (2012)  \n",
       "1  [Auto, Racing, Sim]               [Xbox]                      4X4 EVO 2  \n",
       "2  [Auto, Racing, Sim]      [PlayStation 2]                MotoGP 2 (2001)  \n",
       "3       [Western, RPG]                 [PC]                       Gothic 3  \n",
       "4                [RPG]                 [PC]  Siege Survival: Gloria Victis  "
      ]
     },
     "execution_count": 26,
     "metadata": {},
     "output_type": "execute_result"
    }
   ],
   "source": [
    "games.head()"
   ]
  },
  {
   "cell_type": "code",
   "execution_count": 27,
   "metadata": {},
   "outputs": [],
   "source": [
    "#Joining all columns to make 1\n",
    "games['tags']=games['Title']+games['Developer']+games['Genre']+games['Platform Info']"
   ]
  },
  {
   "cell_type": "code",
   "execution_count": 28,
   "metadata": {},
   "outputs": [
    {
     "data": {
      "text/html": [
       "<div>\n",
       "<style scoped>\n",
       "    .dataframe tbody tr th:only-of-type {\n",
       "        vertical-align: middle;\n",
       "    }\n",
       "\n",
       "    .dataframe tbody tr th {\n",
       "        vertical-align: top;\n",
       "    }\n",
       "\n",
       "    .dataframe thead th {\n",
       "        text-align: right;\n",
       "    }\n",
       "</style>\n",
       "<table border=\"1\" class=\"dataframe\">\n",
       "  <thead>\n",
       "    <tr style=\"text-align: right;\">\n",
       "      <th></th>\n",
       "      <th>Title</th>\n",
       "      <th>Developer</th>\n",
       "      <th>Genre</th>\n",
       "      <th>Platform Info</th>\n",
       "      <th>Original Title</th>\n",
       "      <th>tags</th>\n",
       "    </tr>\n",
       "  </thead>\n",
       "  <tbody>\n",
       "    <tr>\n",
       "      <th>0</th>\n",
       "      <td>[Ziggurat, (2012)]</td>\n",
       "      <td>[Action, Button, Entertainment]</td>\n",
       "      <td>[Action]</td>\n",
       "      <td>[iOS (iPhone/iPad)]</td>\n",
       "      <td>Ziggurat (2012)</td>\n",
       "      <td>[Ziggurat, (2012), Action, Button, Entertainme...</td>\n",
       "    </tr>\n",
       "    <tr>\n",
       "      <th>1</th>\n",
       "      <td>[4X4, EVO, 2]</td>\n",
       "      <td>[Terminal, Reality]</td>\n",
       "      <td>[Auto, Racing, Sim]</td>\n",
       "      <td>[Xbox]</td>\n",
       "      <td>4X4 EVO 2</td>\n",
       "      <td>[4X4, EVO, 2, Terminal, Reality, Auto, Racing,...</td>\n",
       "    </tr>\n",
       "    <tr>\n",
       "      <th>2</th>\n",
       "      <td>[MotoGP, 2, (2001)]</td>\n",
       "      <td>[Namco]</td>\n",
       "      <td>[Auto, Racing, Sim]</td>\n",
       "      <td>[PlayStation 2]</td>\n",
       "      <td>MotoGP 2 (2001)</td>\n",
       "      <td>[MotoGP, 2, (2001), Namco, Auto, Racing, Sim, ...</td>\n",
       "    </tr>\n",
       "    <tr>\n",
       "      <th>3</th>\n",
       "      <td>[Gothic, 3]</td>\n",
       "      <td>[Piranha, Bytes]</td>\n",
       "      <td>[Western, RPG]</td>\n",
       "      <td>[PC]</td>\n",
       "      <td>Gothic 3</td>\n",
       "      <td>[Gothic, 3, Piranha, Bytes, Western, RPG, PC]</td>\n",
       "    </tr>\n",
       "    <tr>\n",
       "      <th>4</th>\n",
       "      <td>[Siege, Survival:, Gloria, Victis]</td>\n",
       "      <td>[FishTankStudio]</td>\n",
       "      <td>[RPG]</td>\n",
       "      <td>[PC]</td>\n",
       "      <td>Siege Survival: Gloria Victis</td>\n",
       "      <td>[Siege, Survival:, Gloria, Victis, FishTankStu...</td>\n",
       "    </tr>\n",
       "  </tbody>\n",
       "</table>\n",
       "</div>"
      ],
      "text/plain": [
       "                                Title                        Developer  \\\n",
       "0                  [Ziggurat, (2012)]  [Action, Button, Entertainment]   \n",
       "1                       [4X4, EVO, 2]              [Terminal, Reality]   \n",
       "2                 [MotoGP, 2, (2001)]                          [Namco]   \n",
       "3                         [Gothic, 3]                 [Piranha, Bytes]   \n",
       "4  [Siege, Survival:, Gloria, Victis]                 [FishTankStudio]   \n",
       "\n",
       "                 Genre        Platform Info                 Original Title  \\\n",
       "0             [Action]  [iOS (iPhone/iPad)]                Ziggurat (2012)   \n",
       "1  [Auto, Racing, Sim]               [Xbox]                      4X4 EVO 2   \n",
       "2  [Auto, Racing, Sim]      [PlayStation 2]                MotoGP 2 (2001)   \n",
       "3       [Western, RPG]                 [PC]                       Gothic 3   \n",
       "4                [RPG]                 [PC]  Siege Survival: Gloria Victis   \n",
       "\n",
       "                                                tags  \n",
       "0  [Ziggurat, (2012), Action, Button, Entertainme...  \n",
       "1  [4X4, EVO, 2, Terminal, Reality, Auto, Racing,...  \n",
       "2  [MotoGP, 2, (2001), Namco, Auto, Racing, Sim, ...  \n",
       "3      [Gothic, 3, Piranha, Bytes, Western, RPG, PC]  \n",
       "4  [Siege, Survival:, Gloria, Victis, FishTankStu...  "
      ]
     },
     "execution_count": 28,
     "metadata": {},
     "output_type": "execute_result"
    }
   ],
   "source": [
    "games.head()"
   ]
  },
  {
   "cell_type": "code",
   "execution_count": 29,
   "metadata": {},
   "outputs": [],
   "source": [
    "games=games[['Original Title','tags']]"
   ]
  },
  {
   "cell_type": "code",
   "execution_count": 30,
   "metadata": {},
   "outputs": [
    {
     "data": {
      "text/html": [
       "<div>\n",
       "<style scoped>\n",
       "    .dataframe tbody tr th:only-of-type {\n",
       "        vertical-align: middle;\n",
       "    }\n",
       "\n",
       "    .dataframe tbody tr th {\n",
       "        vertical-align: top;\n",
       "    }\n",
       "\n",
       "    .dataframe thead th {\n",
       "        text-align: right;\n",
       "    }\n",
       "</style>\n",
       "<table border=\"1\" class=\"dataframe\">\n",
       "  <thead>\n",
       "    <tr style=\"text-align: right;\">\n",
       "      <th></th>\n",
       "      <th>Original Title</th>\n",
       "      <th>tags</th>\n",
       "    </tr>\n",
       "  </thead>\n",
       "  <tbody>\n",
       "    <tr>\n",
       "      <th>0</th>\n",
       "      <td>Ziggurat (2012)</td>\n",
       "      <td>[Ziggurat, (2012), Action, Button, Entertainme...</td>\n",
       "    </tr>\n",
       "    <tr>\n",
       "      <th>1</th>\n",
       "      <td>4X4 EVO 2</td>\n",
       "      <td>[4X4, EVO, 2, Terminal, Reality, Auto, Racing,...</td>\n",
       "    </tr>\n",
       "    <tr>\n",
       "      <th>2</th>\n",
       "      <td>MotoGP 2 (2001)</td>\n",
       "      <td>[MotoGP, 2, (2001), Namco, Auto, Racing, Sim, ...</td>\n",
       "    </tr>\n",
       "    <tr>\n",
       "      <th>3</th>\n",
       "      <td>Gothic 3</td>\n",
       "      <td>[Gothic, 3, Piranha, Bytes, Western, RPG, PC]</td>\n",
       "    </tr>\n",
       "    <tr>\n",
       "      <th>4</th>\n",
       "      <td>Siege Survival: Gloria Victis</td>\n",
       "      <td>[Siege, Survival:, Gloria, Victis, FishTankStu...</td>\n",
       "    </tr>\n",
       "  </tbody>\n",
       "</table>\n",
       "</div>"
      ],
      "text/plain": [
       "                  Original Title  \\\n",
       "0                Ziggurat (2012)   \n",
       "1                      4X4 EVO 2   \n",
       "2                MotoGP 2 (2001)   \n",
       "3                       Gothic 3   \n",
       "4  Siege Survival: Gloria Victis   \n",
       "\n",
       "                                                tags  \n",
       "0  [Ziggurat, (2012), Action, Button, Entertainme...  \n",
       "1  [4X4, EVO, 2, Terminal, Reality, Auto, Racing,...  \n",
       "2  [MotoGP, 2, (2001), Namco, Auto, Racing, Sim, ...  \n",
       "3      [Gothic, 3, Piranha, Bytes, Western, RPG, PC]  \n",
       "4  [Siege, Survival:, Gloria, Victis, FishTankStu...  "
      ]
     },
     "execution_count": 30,
     "metadata": {},
     "output_type": "execute_result"
    }
   ],
   "source": [
    "games.head()"
   ]
  },
  {
   "cell_type": "code",
   "execution_count": 31,
   "metadata": {},
   "outputs": [],
   "source": [
    "games=games.rename(columns={'Original Title':'title'})"
   ]
  },
  {
   "cell_type": "code",
   "execution_count": 32,
   "metadata": {},
   "outputs": [
    {
     "data": {
      "text/html": [
       "<div>\n",
       "<style scoped>\n",
       "    .dataframe tbody tr th:only-of-type {\n",
       "        vertical-align: middle;\n",
       "    }\n",
       "\n",
       "    .dataframe tbody tr th {\n",
       "        vertical-align: top;\n",
       "    }\n",
       "\n",
       "    .dataframe thead th {\n",
       "        text-align: right;\n",
       "    }\n",
       "</style>\n",
       "<table border=\"1\" class=\"dataframe\">\n",
       "  <thead>\n",
       "    <tr style=\"text-align: right;\">\n",
       "      <th></th>\n",
       "      <th>title</th>\n",
       "      <th>tags</th>\n",
       "    </tr>\n",
       "  </thead>\n",
       "  <tbody>\n",
       "    <tr>\n",
       "      <th>0</th>\n",
       "      <td>Ziggurat (2012)</td>\n",
       "      <td>[Ziggurat, (2012), Action, Button, Entertainme...</td>\n",
       "    </tr>\n",
       "    <tr>\n",
       "      <th>1</th>\n",
       "      <td>4X4 EVO 2</td>\n",
       "      <td>[4X4, EVO, 2, Terminal, Reality, Auto, Racing,...</td>\n",
       "    </tr>\n",
       "    <tr>\n",
       "      <th>2</th>\n",
       "      <td>MotoGP 2 (2001)</td>\n",
       "      <td>[MotoGP, 2, (2001), Namco, Auto, Racing, Sim, ...</td>\n",
       "    </tr>\n",
       "    <tr>\n",
       "      <th>3</th>\n",
       "      <td>Gothic 3</td>\n",
       "      <td>[Gothic, 3, Piranha, Bytes, Western, RPG, PC]</td>\n",
       "    </tr>\n",
       "    <tr>\n",
       "      <th>4</th>\n",
       "      <td>Siege Survival: Gloria Victis</td>\n",
       "      <td>[Siege, Survival:, Gloria, Victis, FishTankStu...</td>\n",
       "    </tr>\n",
       "  </tbody>\n",
       "</table>\n",
       "</div>"
      ],
      "text/plain": [
       "                           title  \\\n",
       "0                Ziggurat (2012)   \n",
       "1                      4X4 EVO 2   \n",
       "2                MotoGP 2 (2001)   \n",
       "3                       Gothic 3   \n",
       "4  Siege Survival: Gloria Victis   \n",
       "\n",
       "                                                tags  \n",
       "0  [Ziggurat, (2012), Action, Button, Entertainme...  \n",
       "1  [4X4, EVO, 2, Terminal, Reality, Auto, Racing,...  \n",
       "2  [MotoGP, 2, (2001), Namco, Auto, Racing, Sim, ...  \n",
       "3      [Gothic, 3, Piranha, Bytes, Western, RPG, PC]  \n",
       "4  [Siege, Survival:, Gloria, Victis, FishTankStu...  "
      ]
     },
     "execution_count": 32,
     "metadata": {},
     "output_type": "execute_result"
    }
   ],
   "source": [
    "games.head()"
   ]
  },
  {
   "cell_type": "code",
   "execution_count": 33,
   "metadata": {},
   "outputs": [],
   "source": [
    "#removing spaces between tags\n",
    "games['tags']=games['tags'].apply(lambda x:[i.replace(\" \",\"\") for i in x])"
   ]
  },
  {
   "cell_type": "code",
   "execution_count": 34,
   "metadata": {},
   "outputs": [
    {
     "data": {
      "text/plain": [
       "['MotoGP', '2', '(2001)', 'Namco', 'Auto', 'Racing', 'Sim', 'PlayStation2']"
      ]
     },
     "execution_count": 34,
     "metadata": {},
     "output_type": "execute_result"
    }
   ],
   "source": [
    "games['tags'].iloc[2]"
   ]
  },
  {
   "cell_type": "code",
   "execution_count": 35,
   "metadata": {},
   "outputs": [
    {
     "data": {
      "text/html": [
       "<div>\n",
       "<style scoped>\n",
       "    .dataframe tbody tr th:only-of-type {\n",
       "        vertical-align: middle;\n",
       "    }\n",
       "\n",
       "    .dataframe tbody tr th {\n",
       "        vertical-align: top;\n",
       "    }\n",
       "\n",
       "    .dataframe thead th {\n",
       "        text-align: right;\n",
       "    }\n",
       "</style>\n",
       "<table border=\"1\" class=\"dataframe\">\n",
       "  <thead>\n",
       "    <tr style=\"text-align: right;\">\n",
       "      <th></th>\n",
       "      <th>title</th>\n",
       "      <th>tags</th>\n",
       "    </tr>\n",
       "  </thead>\n",
       "  <tbody>\n",
       "    <tr>\n",
       "      <th>0</th>\n",
       "      <td>Ziggurat (2012)</td>\n",
       "      <td>[Ziggurat, (2012), Action, Button, Entertainme...</td>\n",
       "    </tr>\n",
       "    <tr>\n",
       "      <th>1</th>\n",
       "      <td>4X4 EVO 2</td>\n",
       "      <td>[4X4, EVO, 2, Terminal, Reality, Auto, Racing,...</td>\n",
       "    </tr>\n",
       "    <tr>\n",
       "      <th>2</th>\n",
       "      <td>MotoGP 2 (2001)</td>\n",
       "      <td>[MotoGP, 2, (2001), Namco, Auto, Racing, Sim, ...</td>\n",
       "    </tr>\n",
       "    <tr>\n",
       "      <th>3</th>\n",
       "      <td>Gothic 3</td>\n",
       "      <td>[Gothic, 3, Piranha, Bytes, Western, RPG, PC]</td>\n",
       "    </tr>\n",
       "    <tr>\n",
       "      <th>4</th>\n",
       "      <td>Siege Survival: Gloria Victis</td>\n",
       "      <td>[Siege, Survival:, Gloria, Victis, FishTankStu...</td>\n",
       "    </tr>\n",
       "  </tbody>\n",
       "</table>\n",
       "</div>"
      ],
      "text/plain": [
       "                           title  \\\n",
       "0                Ziggurat (2012)   \n",
       "1                      4X4 EVO 2   \n",
       "2                MotoGP 2 (2001)   \n",
       "3                       Gothic 3   \n",
       "4  Siege Survival: Gloria Victis   \n",
       "\n",
       "                                                tags  \n",
       "0  [Ziggurat, (2012), Action, Button, Entertainme...  \n",
       "1  [4X4, EVO, 2, Terminal, Reality, Auto, Racing,...  \n",
       "2  [MotoGP, 2, (2001), Namco, Auto, Racing, Sim, ...  \n",
       "3      [Gothic, 3, Piranha, Bytes, Western, RPG, PC]  \n",
       "4  [Siege, Survival:, Gloria, Victis, FishTankStu...  "
      ]
     },
     "execution_count": 35,
     "metadata": {},
     "output_type": "execute_result"
    }
   ],
   "source": [
    "games.head()"
   ]
  },
  {
   "cell_type": "code",
   "execution_count": 36,
   "metadata": {},
   "outputs": [],
   "source": [
    "def lowering(input):\n",
    "    lst=[]\n",
    "    for i in input:\n",
    "        lst.append(i.lower())\n",
    "    return lst"
   ]
  },
  {
   "cell_type": "code",
   "execution_count": 37,
   "metadata": {},
   "outputs": [],
   "source": [
    "games['tags']=games['tags'].apply(lowering)"
   ]
  },
  {
   "cell_type": "code",
   "execution_count": 38,
   "metadata": {},
   "outputs": [
    {
     "data": {
      "text/html": [
       "<div>\n",
       "<style scoped>\n",
       "    .dataframe tbody tr th:only-of-type {\n",
       "        vertical-align: middle;\n",
       "    }\n",
       "\n",
       "    .dataframe tbody tr th {\n",
       "        vertical-align: top;\n",
       "    }\n",
       "\n",
       "    .dataframe thead th {\n",
       "        text-align: right;\n",
       "    }\n",
       "</style>\n",
       "<table border=\"1\" class=\"dataframe\">\n",
       "  <thead>\n",
       "    <tr style=\"text-align: right;\">\n",
       "      <th></th>\n",
       "      <th>title</th>\n",
       "      <th>tags</th>\n",
       "    </tr>\n",
       "  </thead>\n",
       "  <tbody>\n",
       "    <tr>\n",
       "      <th>0</th>\n",
       "      <td>Ziggurat (2012)</td>\n",
       "      <td>[ziggurat, (2012), action, button, entertainme...</td>\n",
       "    </tr>\n",
       "    <tr>\n",
       "      <th>1</th>\n",
       "      <td>4X4 EVO 2</td>\n",
       "      <td>[4x4, evo, 2, terminal, reality, auto, racing,...</td>\n",
       "    </tr>\n",
       "    <tr>\n",
       "      <th>2</th>\n",
       "      <td>MotoGP 2 (2001)</td>\n",
       "      <td>[motogp, 2, (2001), namco, auto, racing, sim, ...</td>\n",
       "    </tr>\n",
       "    <tr>\n",
       "      <th>3</th>\n",
       "      <td>Gothic 3</td>\n",
       "      <td>[gothic, 3, piranha, bytes, western, rpg, pc]</td>\n",
       "    </tr>\n",
       "    <tr>\n",
       "      <th>4</th>\n",
       "      <td>Siege Survival: Gloria Victis</td>\n",
       "      <td>[siege, survival:, gloria, victis, fishtankstu...</td>\n",
       "    </tr>\n",
       "    <tr>\n",
       "      <th>...</th>\n",
       "      <td>...</td>\n",
       "      <td>...</td>\n",
       "    </tr>\n",
       "    <tr>\n",
       "      <th>14050</th>\n",
       "      <td>Dragon Age: Origins - Awakening</td>\n",
       "      <td>[dragon, age:, origins, -, awakening, bioware,...</td>\n",
       "    </tr>\n",
       "    <tr>\n",
       "      <th>14051</th>\n",
       "      <td>Lover Pretend</td>\n",
       "      <td>[lover, pretend, idea, factory, visual, novel,...</td>\n",
       "    </tr>\n",
       "    <tr>\n",
       "      <th>14052</th>\n",
       "      <td>Alice: Madness Returns</td>\n",
       "      <td>[alice:, madness, returns, spicy, horse, survi...</td>\n",
       "    </tr>\n",
       "    <tr>\n",
       "      <th>14053</th>\n",
       "      <td>Concrete Genie</td>\n",
       "      <td>[concrete, genie, pixel, opus, third-person, a...</td>\n",
       "    </tr>\n",
       "    <tr>\n",
       "      <th>14054</th>\n",
       "      <td>Lemony Snicket's A Series of Unfortunate Event...</td>\n",
       "      <td>[lemony, snicket's, a, series, of, unfortunate...</td>\n",
       "    </tr>\n",
       "  </tbody>\n",
       "</table>\n",
       "<p>13917 rows × 2 columns</p>\n",
       "</div>"
      ],
      "text/plain": [
       "                                                   title  \\\n",
       "0                                        Ziggurat (2012)   \n",
       "1                                              4X4 EVO 2   \n",
       "2                                        MotoGP 2 (2001)   \n",
       "3                                               Gothic 3   \n",
       "4                          Siege Survival: Gloria Victis   \n",
       "...                                                  ...   \n",
       "14050                    Dragon Age: Origins - Awakening   \n",
       "14051                                      Lover Pretend   \n",
       "14052                             Alice: Madness Returns   \n",
       "14053                                     Concrete Genie   \n",
       "14054  Lemony Snicket's A Series of Unfortunate Event...   \n",
       "\n",
       "                                                    tags  \n",
       "0      [ziggurat, (2012), action, button, entertainme...  \n",
       "1      [4x4, evo, 2, terminal, reality, auto, racing,...  \n",
       "2      [motogp, 2, (2001), namco, auto, racing, sim, ...  \n",
       "3          [gothic, 3, piranha, bytes, western, rpg, pc]  \n",
       "4      [siege, survival:, gloria, victis, fishtankstu...  \n",
       "...                                                  ...  \n",
       "14050  [dragon, age:, origins, -, awakening, bioware,...  \n",
       "14051  [lover, pretend, idea, factory, visual, novel,...  \n",
       "14052  [alice:, madness, returns, spicy, horse, survi...  \n",
       "14053  [concrete, genie, pixel, opus, third-person, a...  \n",
       "14054  [lemony, snicket's, a, series, of, unfortunate...  \n",
       "\n",
       "[13917 rows x 2 columns]"
      ]
     },
     "execution_count": 38,
     "metadata": {},
     "output_type": "execute_result"
    }
   ],
   "source": [
    "games"
   ]
  },
  {
   "cell_type": "code",
   "execution_count": 39,
   "metadata": {},
   "outputs": [],
   "source": [
    "df_reset = games.reset_index()"
   ]
  },
  {
   "cell_type": "code",
   "execution_count": 40,
   "metadata": {},
   "outputs": [],
   "source": [
    "index_df = df_reset.index.to_frame(index=False, name='Name')"
   ]
  },
  {
   "cell_type": "code",
   "execution_count": 41,
   "metadata": {},
   "outputs": [
    {
     "data": {
      "text/html": [
       "<div>\n",
       "<style scoped>\n",
       "    .dataframe tbody tr th:only-of-type {\n",
       "        vertical-align: middle;\n",
       "    }\n",
       "\n",
       "    .dataframe tbody tr th {\n",
       "        vertical-align: top;\n",
       "    }\n",
       "\n",
       "    .dataframe thead th {\n",
       "        text-align: right;\n",
       "    }\n",
       "</style>\n",
       "<table border=\"1\" class=\"dataframe\">\n",
       "  <thead>\n",
       "    <tr style=\"text-align: right;\">\n",
       "      <th></th>\n",
       "      <th>Name</th>\n",
       "    </tr>\n",
       "  </thead>\n",
       "  <tbody>\n",
       "    <tr>\n",
       "      <th>0</th>\n",
       "      <td>0</td>\n",
       "    </tr>\n",
       "    <tr>\n",
       "      <th>1</th>\n",
       "      <td>1</td>\n",
       "    </tr>\n",
       "    <tr>\n",
       "      <th>2</th>\n",
       "      <td>2</td>\n",
       "    </tr>\n",
       "    <tr>\n",
       "      <th>3</th>\n",
       "      <td>3</td>\n",
       "    </tr>\n",
       "    <tr>\n",
       "      <th>4</th>\n",
       "      <td>4</td>\n",
       "    </tr>\n",
       "    <tr>\n",
       "      <th>...</th>\n",
       "      <td>...</td>\n",
       "    </tr>\n",
       "    <tr>\n",
       "      <th>13912</th>\n",
       "      <td>13912</td>\n",
       "    </tr>\n",
       "    <tr>\n",
       "      <th>13913</th>\n",
       "      <td>13913</td>\n",
       "    </tr>\n",
       "    <tr>\n",
       "      <th>13914</th>\n",
       "      <td>13914</td>\n",
       "    </tr>\n",
       "    <tr>\n",
       "      <th>13915</th>\n",
       "      <td>13915</td>\n",
       "    </tr>\n",
       "    <tr>\n",
       "      <th>13916</th>\n",
       "      <td>13916</td>\n",
       "    </tr>\n",
       "  </tbody>\n",
       "</table>\n",
       "<p>13917 rows × 1 columns</p>\n",
       "</div>"
      ],
      "text/plain": [
       "        Name\n",
       "0          0\n",
       "1          1\n",
       "2          2\n",
       "3          3\n",
       "4          4\n",
       "...      ...\n",
       "13912  13912\n",
       "13913  13913\n",
       "13914  13914\n",
       "13915  13915\n",
       "13916  13916\n",
       "\n",
       "[13917 rows x 1 columns]"
      ]
     },
     "execution_count": 41,
     "metadata": {},
     "output_type": "execute_result"
    }
   ],
   "source": [
    "index_df"
   ]
  },
  {
   "cell_type": "code",
   "execution_count": 42,
   "metadata": {},
   "outputs": [],
   "source": [
    "games = pd.concat([index_df, games.reset_index(drop=True)], axis=1)\n"
   ]
  },
  {
   "cell_type": "code",
   "execution_count": 43,
   "metadata": {},
   "outputs": [
    {
     "data": {
      "text/html": [
       "<div>\n",
       "<style scoped>\n",
       "    .dataframe tbody tr th:only-of-type {\n",
       "        vertical-align: middle;\n",
       "    }\n",
       "\n",
       "    .dataframe tbody tr th {\n",
       "        vertical-align: top;\n",
       "    }\n",
       "\n",
       "    .dataframe thead th {\n",
       "        text-align: right;\n",
       "    }\n",
       "</style>\n",
       "<table border=\"1\" class=\"dataframe\">\n",
       "  <thead>\n",
       "    <tr style=\"text-align: right;\">\n",
       "      <th></th>\n",
       "      <th>Name</th>\n",
       "      <th>title</th>\n",
       "      <th>tags</th>\n",
       "    </tr>\n",
       "  </thead>\n",
       "  <tbody>\n",
       "    <tr>\n",
       "      <th>0</th>\n",
       "      <td>0</td>\n",
       "      <td>Ziggurat (2012)</td>\n",
       "      <td>[ziggurat, (2012), action, button, entertainme...</td>\n",
       "    </tr>\n",
       "    <tr>\n",
       "      <th>1</th>\n",
       "      <td>1</td>\n",
       "      <td>4X4 EVO 2</td>\n",
       "      <td>[4x4, evo, 2, terminal, reality, auto, racing,...</td>\n",
       "    </tr>\n",
       "    <tr>\n",
       "      <th>2</th>\n",
       "      <td>2</td>\n",
       "      <td>MotoGP 2 (2001)</td>\n",
       "      <td>[motogp, 2, (2001), namco, auto, racing, sim, ...</td>\n",
       "    </tr>\n",
       "    <tr>\n",
       "      <th>3</th>\n",
       "      <td>3</td>\n",
       "      <td>Gothic 3</td>\n",
       "      <td>[gothic, 3, piranha, bytes, western, rpg, pc]</td>\n",
       "    </tr>\n",
       "    <tr>\n",
       "      <th>4</th>\n",
       "      <td>4</td>\n",
       "      <td>Siege Survival: Gloria Victis</td>\n",
       "      <td>[siege, survival:, gloria, victis, fishtankstu...</td>\n",
       "    </tr>\n",
       "    <tr>\n",
       "      <th>...</th>\n",
       "      <td>...</td>\n",
       "      <td>...</td>\n",
       "      <td>...</td>\n",
       "    </tr>\n",
       "    <tr>\n",
       "      <th>13912</th>\n",
       "      <td>13912</td>\n",
       "      <td>Dragon Age: Origins - Awakening</td>\n",
       "      <td>[dragon, age:, origins, -, awakening, bioware,...</td>\n",
       "    </tr>\n",
       "    <tr>\n",
       "      <th>13913</th>\n",
       "      <td>13913</td>\n",
       "      <td>Lover Pretend</td>\n",
       "      <td>[lover, pretend, idea, factory, visual, novel,...</td>\n",
       "    </tr>\n",
       "    <tr>\n",
       "      <th>13914</th>\n",
       "      <td>13914</td>\n",
       "      <td>Alice: Madness Returns</td>\n",
       "      <td>[alice:, madness, returns, spicy, horse, survi...</td>\n",
       "    </tr>\n",
       "    <tr>\n",
       "      <th>13915</th>\n",
       "      <td>13915</td>\n",
       "      <td>Concrete Genie</td>\n",
       "      <td>[concrete, genie, pixel, opus, third-person, a...</td>\n",
       "    </tr>\n",
       "    <tr>\n",
       "      <th>13916</th>\n",
       "      <td>13916</td>\n",
       "      <td>Lemony Snicket's A Series of Unfortunate Event...</td>\n",
       "      <td>[lemony, snicket's, a, series, of, unfortunate...</td>\n",
       "    </tr>\n",
       "  </tbody>\n",
       "</table>\n",
       "<p>13917 rows × 3 columns</p>\n",
       "</div>"
      ],
      "text/plain": [
       "        Name                                              title  \\\n",
       "0          0                                    Ziggurat (2012)   \n",
       "1          1                                          4X4 EVO 2   \n",
       "2          2                                    MotoGP 2 (2001)   \n",
       "3          3                                           Gothic 3   \n",
       "4          4                      Siege Survival: Gloria Victis   \n",
       "...      ...                                                ...   \n",
       "13912  13912                    Dragon Age: Origins - Awakening   \n",
       "13913  13913                                      Lover Pretend   \n",
       "13914  13914                             Alice: Madness Returns   \n",
       "13915  13915                                     Concrete Genie   \n",
       "13916  13916  Lemony Snicket's A Series of Unfortunate Event...   \n",
       "\n",
       "                                                    tags  \n",
       "0      [ziggurat, (2012), action, button, entertainme...  \n",
       "1      [4x4, evo, 2, terminal, reality, auto, racing,...  \n",
       "2      [motogp, 2, (2001), namco, auto, racing, sim, ...  \n",
       "3          [gothic, 3, piranha, bytes, western, rpg, pc]  \n",
       "4      [siege, survival:, gloria, victis, fishtankstu...  \n",
       "...                                                  ...  \n",
       "13912  [dragon, age:, origins, -, awakening, bioware,...  \n",
       "13913  [lover, pretend, idea, factory, visual, novel,...  \n",
       "13914  [alice:, madness, returns, spicy, horse, survi...  \n",
       "13915  [concrete, genie, pixel, opus, third-person, a...  \n",
       "13916  [lemony, snicket's, a, series, of, unfortunate...  \n",
       "\n",
       "[13917 rows x 3 columns]"
      ]
     },
     "execution_count": 43,
     "metadata": {},
     "output_type": "execute_result"
    }
   ],
   "source": [
    "games"
   ]
  },
  {
   "cell_type": "code",
   "execution_count": 44,
   "metadata": {},
   "outputs": [],
   "source": [
    "games=games.rename(columns={'Name':'gameid'})"
   ]
  },
  {
   "cell_type": "code",
   "execution_count": 45,
   "metadata": {},
   "outputs": [
    {
     "data": {
      "text/html": [
       "<div>\n",
       "<style scoped>\n",
       "    .dataframe tbody tr th:only-of-type {\n",
       "        vertical-align: middle;\n",
       "    }\n",
       "\n",
       "    .dataframe tbody tr th {\n",
       "        vertical-align: top;\n",
       "    }\n",
       "\n",
       "    .dataframe thead th {\n",
       "        text-align: right;\n",
       "    }\n",
       "</style>\n",
       "<table border=\"1\" class=\"dataframe\">\n",
       "  <thead>\n",
       "    <tr style=\"text-align: right;\">\n",
       "      <th></th>\n",
       "      <th>gameid</th>\n",
       "      <th>title</th>\n",
       "      <th>tags</th>\n",
       "    </tr>\n",
       "  </thead>\n",
       "  <tbody>\n",
       "    <tr>\n",
       "      <th>0</th>\n",
       "      <td>0</td>\n",
       "      <td>Ziggurat (2012)</td>\n",
       "      <td>[ziggurat, (2012), action, button, entertainme...</td>\n",
       "    </tr>\n",
       "    <tr>\n",
       "      <th>1</th>\n",
       "      <td>1</td>\n",
       "      <td>4X4 EVO 2</td>\n",
       "      <td>[4x4, evo, 2, terminal, reality, auto, racing,...</td>\n",
       "    </tr>\n",
       "    <tr>\n",
       "      <th>2</th>\n",
       "      <td>2</td>\n",
       "      <td>MotoGP 2 (2001)</td>\n",
       "      <td>[motogp, 2, (2001), namco, auto, racing, sim, ...</td>\n",
       "    </tr>\n",
       "    <tr>\n",
       "      <th>3</th>\n",
       "      <td>3</td>\n",
       "      <td>Gothic 3</td>\n",
       "      <td>[gothic, 3, piranha, bytes, western, rpg, pc]</td>\n",
       "    </tr>\n",
       "    <tr>\n",
       "      <th>4</th>\n",
       "      <td>4</td>\n",
       "      <td>Siege Survival: Gloria Victis</td>\n",
       "      <td>[siege, survival:, gloria, victis, fishtankstu...</td>\n",
       "    </tr>\n",
       "    <tr>\n",
       "      <th>...</th>\n",
       "      <td>...</td>\n",
       "      <td>...</td>\n",
       "      <td>...</td>\n",
       "    </tr>\n",
       "    <tr>\n",
       "      <th>13912</th>\n",
       "      <td>13912</td>\n",
       "      <td>Dragon Age: Origins - Awakening</td>\n",
       "      <td>[dragon, age:, origins, -, awakening, bioware,...</td>\n",
       "    </tr>\n",
       "    <tr>\n",
       "      <th>13913</th>\n",
       "      <td>13913</td>\n",
       "      <td>Lover Pretend</td>\n",
       "      <td>[lover, pretend, idea, factory, visual, novel,...</td>\n",
       "    </tr>\n",
       "    <tr>\n",
       "      <th>13914</th>\n",
       "      <td>13914</td>\n",
       "      <td>Alice: Madness Returns</td>\n",
       "      <td>[alice:, madness, returns, spicy, horse, survi...</td>\n",
       "    </tr>\n",
       "    <tr>\n",
       "      <th>13915</th>\n",
       "      <td>13915</td>\n",
       "      <td>Concrete Genie</td>\n",
       "      <td>[concrete, genie, pixel, opus, third-person, a...</td>\n",
       "    </tr>\n",
       "    <tr>\n",
       "      <th>13916</th>\n",
       "      <td>13916</td>\n",
       "      <td>Lemony Snicket's A Series of Unfortunate Event...</td>\n",
       "      <td>[lemony, snicket's, a, series, of, unfortunate...</td>\n",
       "    </tr>\n",
       "  </tbody>\n",
       "</table>\n",
       "<p>13917 rows × 3 columns</p>\n",
       "</div>"
      ],
      "text/plain": [
       "       gameid                                              title  \\\n",
       "0           0                                    Ziggurat (2012)   \n",
       "1           1                                          4X4 EVO 2   \n",
       "2           2                                    MotoGP 2 (2001)   \n",
       "3           3                                           Gothic 3   \n",
       "4           4                      Siege Survival: Gloria Victis   \n",
       "...       ...                                                ...   \n",
       "13912   13912                    Dragon Age: Origins - Awakening   \n",
       "13913   13913                                      Lover Pretend   \n",
       "13914   13914                             Alice: Madness Returns   \n",
       "13915   13915                                     Concrete Genie   \n",
       "13916   13916  Lemony Snicket's A Series of Unfortunate Event...   \n",
       "\n",
       "                                                    tags  \n",
       "0      [ziggurat, (2012), action, button, entertainme...  \n",
       "1      [4x4, evo, 2, terminal, reality, auto, racing,...  \n",
       "2      [motogp, 2, (2001), namco, auto, racing, sim, ...  \n",
       "3          [gothic, 3, piranha, bytes, western, rpg, pc]  \n",
       "4      [siege, survival:, gloria, victis, fishtankstu...  \n",
       "...                                                  ...  \n",
       "13912  [dragon, age:, origins, -, awakening, bioware,...  \n",
       "13913  [lover, pretend, idea, factory, visual, novel,...  \n",
       "13914  [alice:, madness, returns, spicy, horse, survi...  \n",
       "13915  [concrete, genie, pixel, opus, third-person, a...  \n",
       "13916  [lemony, snicket's, a, series, of, unfortunate...  \n",
       "\n",
       "[13917 rows x 3 columns]"
      ]
     },
     "execution_count": 45,
     "metadata": {},
     "output_type": "execute_result"
    }
   ],
   "source": [
    "games"
   ]
  },
  {
   "cell_type": "code",
   "execution_count": 46,
   "metadata": {},
   "outputs": [],
   "source": [
    "df=games"
   ]
  },
  {
   "cell_type": "code",
   "execution_count": 47,
   "metadata": {},
   "outputs": [
    {
     "data": {
      "text/html": [
       "<div>\n",
       "<style scoped>\n",
       "    .dataframe tbody tr th:only-of-type {\n",
       "        vertical-align: middle;\n",
       "    }\n",
       "\n",
       "    .dataframe tbody tr th {\n",
       "        vertical-align: top;\n",
       "    }\n",
       "\n",
       "    .dataframe thead th {\n",
       "        text-align: right;\n",
       "    }\n",
       "</style>\n",
       "<table border=\"1\" class=\"dataframe\">\n",
       "  <thead>\n",
       "    <tr style=\"text-align: right;\">\n",
       "      <th></th>\n",
       "      <th>gameid</th>\n",
       "      <th>title</th>\n",
       "      <th>tags</th>\n",
       "    </tr>\n",
       "  </thead>\n",
       "  <tbody>\n",
       "    <tr>\n",
       "      <th>0</th>\n",
       "      <td>0</td>\n",
       "      <td>Ziggurat (2012)</td>\n",
       "      <td>[ziggurat, (2012), action, button, entertainme...</td>\n",
       "    </tr>\n",
       "    <tr>\n",
       "      <th>1</th>\n",
       "      <td>1</td>\n",
       "      <td>4X4 EVO 2</td>\n",
       "      <td>[4x4, evo, 2, terminal, reality, auto, racing,...</td>\n",
       "    </tr>\n",
       "    <tr>\n",
       "      <th>2</th>\n",
       "      <td>2</td>\n",
       "      <td>MotoGP 2 (2001)</td>\n",
       "      <td>[motogp, 2, (2001), namco, auto, racing, sim, ...</td>\n",
       "    </tr>\n",
       "    <tr>\n",
       "      <th>3</th>\n",
       "      <td>3</td>\n",
       "      <td>Gothic 3</td>\n",
       "      <td>[gothic, 3, piranha, bytes, western, rpg, pc]</td>\n",
       "    </tr>\n",
       "    <tr>\n",
       "      <th>4</th>\n",
       "      <td>4</td>\n",
       "      <td>Siege Survival: Gloria Victis</td>\n",
       "      <td>[siege, survival:, gloria, victis, fishtankstu...</td>\n",
       "    </tr>\n",
       "    <tr>\n",
       "      <th>...</th>\n",
       "      <td>...</td>\n",
       "      <td>...</td>\n",
       "      <td>...</td>\n",
       "    </tr>\n",
       "    <tr>\n",
       "      <th>13912</th>\n",
       "      <td>13912</td>\n",
       "      <td>Dragon Age: Origins - Awakening</td>\n",
       "      <td>[dragon, age:, origins, -, awakening, bioware,...</td>\n",
       "    </tr>\n",
       "    <tr>\n",
       "      <th>13913</th>\n",
       "      <td>13913</td>\n",
       "      <td>Lover Pretend</td>\n",
       "      <td>[lover, pretend, idea, factory, visual, novel,...</td>\n",
       "    </tr>\n",
       "    <tr>\n",
       "      <th>13914</th>\n",
       "      <td>13914</td>\n",
       "      <td>Alice: Madness Returns</td>\n",
       "      <td>[alice:, madness, returns, spicy, horse, survi...</td>\n",
       "    </tr>\n",
       "    <tr>\n",
       "      <th>13915</th>\n",
       "      <td>13915</td>\n",
       "      <td>Concrete Genie</td>\n",
       "      <td>[concrete, genie, pixel, opus, third-person, a...</td>\n",
       "    </tr>\n",
       "    <tr>\n",
       "      <th>13916</th>\n",
       "      <td>13916</td>\n",
       "      <td>Lemony Snicket's A Series of Unfortunate Event...</td>\n",
       "      <td>[lemony, snicket's, a, series, of, unfortunate...</td>\n",
       "    </tr>\n",
       "  </tbody>\n",
       "</table>\n",
       "<p>13917 rows × 3 columns</p>\n",
       "</div>"
      ],
      "text/plain": [
       "       gameid                                              title  \\\n",
       "0           0                                    Ziggurat (2012)   \n",
       "1           1                                          4X4 EVO 2   \n",
       "2           2                                    MotoGP 2 (2001)   \n",
       "3           3                                           Gothic 3   \n",
       "4           4                      Siege Survival: Gloria Victis   \n",
       "...       ...                                                ...   \n",
       "13912   13912                    Dragon Age: Origins - Awakening   \n",
       "13913   13913                                      Lover Pretend   \n",
       "13914   13914                             Alice: Madness Returns   \n",
       "13915   13915                                     Concrete Genie   \n",
       "13916   13916  Lemony Snicket's A Series of Unfortunate Event...   \n",
       "\n",
       "                                                    tags  \n",
       "0      [ziggurat, (2012), action, button, entertainme...  \n",
       "1      [4x4, evo, 2, terminal, reality, auto, racing,...  \n",
       "2      [motogp, 2, (2001), namco, auto, racing, sim, ...  \n",
       "3          [gothic, 3, piranha, bytes, western, rpg, pc]  \n",
       "4      [siege, survival:, gloria, victis, fishtankstu...  \n",
       "...                                                  ...  \n",
       "13912  [dragon, age:, origins, -, awakening, bioware,...  \n",
       "13913  [lover, pretend, idea, factory, visual, novel,...  \n",
       "13914  [alice:, madness, returns, spicy, horse, survi...  \n",
       "13915  [concrete, genie, pixel, opus, third-person, a...  \n",
       "13916  [lemony, snicket's, a, series, of, unfortunate...  \n",
       "\n",
       "[13917 rows x 3 columns]"
      ]
     },
     "execution_count": 47,
     "metadata": {},
     "output_type": "execute_result"
    }
   ],
   "source": [
    "df"
   ]
  },
  {
   "cell_type": "code",
   "execution_count": 48,
   "metadata": {},
   "outputs": [],
   "source": [
    "games['tags']=games['tags'].apply(lambda x:\" \".join(x))"
   ]
  },
  {
   "cell_type": "code",
   "execution_count": 49,
   "metadata": {},
   "outputs": [
    {
     "data": {
      "text/html": [
       "<div>\n",
       "<style scoped>\n",
       "    .dataframe tbody tr th:only-of-type {\n",
       "        vertical-align: middle;\n",
       "    }\n",
       "\n",
       "    .dataframe tbody tr th {\n",
       "        vertical-align: top;\n",
       "    }\n",
       "\n",
       "    .dataframe thead th {\n",
       "        text-align: right;\n",
       "    }\n",
       "</style>\n",
       "<table border=\"1\" class=\"dataframe\">\n",
       "  <thead>\n",
       "    <tr style=\"text-align: right;\">\n",
       "      <th></th>\n",
       "      <th>gameid</th>\n",
       "      <th>title</th>\n",
       "      <th>tags</th>\n",
       "    </tr>\n",
       "  </thead>\n",
       "  <tbody>\n",
       "    <tr>\n",
       "      <th>0</th>\n",
       "      <td>0</td>\n",
       "      <td>Ziggurat (2012)</td>\n",
       "      <td>ziggurat (2012) action button entertainment ac...</td>\n",
       "    </tr>\n",
       "    <tr>\n",
       "      <th>1</th>\n",
       "      <td>1</td>\n",
       "      <td>4X4 EVO 2</td>\n",
       "      <td>4x4 evo 2 terminal reality auto racing sim xbox</td>\n",
       "    </tr>\n",
       "    <tr>\n",
       "      <th>2</th>\n",
       "      <td>2</td>\n",
       "      <td>MotoGP 2 (2001)</td>\n",
       "      <td>motogp 2 (2001) namco auto racing sim playstat...</td>\n",
       "    </tr>\n",
       "    <tr>\n",
       "      <th>3</th>\n",
       "      <td>3</td>\n",
       "      <td>Gothic 3</td>\n",
       "      <td>gothic 3 piranha bytes western rpg pc</td>\n",
       "    </tr>\n",
       "    <tr>\n",
       "      <th>4</th>\n",
       "      <td>4</td>\n",
       "      <td>Siege Survival: Gloria Victis</td>\n",
       "      <td>siege survival: gloria victis fishtankstudio r...</td>\n",
       "    </tr>\n",
       "    <tr>\n",
       "      <th>...</th>\n",
       "      <td>...</td>\n",
       "      <td>...</td>\n",
       "      <td>...</td>\n",
       "    </tr>\n",
       "    <tr>\n",
       "      <th>13912</th>\n",
       "      <td>13912</td>\n",
       "      <td>Dragon Age: Origins - Awakening</td>\n",
       "      <td>dragon age: origins - awakening bioware wester...</td>\n",
       "    </tr>\n",
       "    <tr>\n",
       "      <th>13913</th>\n",
       "      <td>13913</td>\n",
       "      <td>Lover Pretend</td>\n",
       "      <td>lover pretend idea factory visual novel ninten...</td>\n",
       "    </tr>\n",
       "    <tr>\n",
       "      <th>13914</th>\n",
       "      <td>13914</td>\n",
       "      <td>Alice: Madness Returns</td>\n",
       "      <td>alice: madness returns spicy horse survival pc</td>\n",
       "    </tr>\n",
       "    <tr>\n",
       "      <th>13915</th>\n",
       "      <td>13915</td>\n",
       "      <td>Concrete Genie</td>\n",
       "      <td>concrete genie pixel opus third-person adventu...</td>\n",
       "    </tr>\n",
       "    <tr>\n",
       "      <th>13916</th>\n",
       "      <td>13916</td>\n",
       "      <td>Lemony Snicket's A Series of Unfortunate Event...</td>\n",
       "      <td>lemony snicket's a series of unfortunate event...</td>\n",
       "    </tr>\n",
       "  </tbody>\n",
       "</table>\n",
       "<p>13917 rows × 3 columns</p>\n",
       "</div>"
      ],
      "text/plain": [
       "       gameid                                              title  \\\n",
       "0           0                                    Ziggurat (2012)   \n",
       "1           1                                          4X4 EVO 2   \n",
       "2           2                                    MotoGP 2 (2001)   \n",
       "3           3                                           Gothic 3   \n",
       "4           4                      Siege Survival: Gloria Victis   \n",
       "...       ...                                                ...   \n",
       "13912   13912                    Dragon Age: Origins - Awakening   \n",
       "13913   13913                                      Lover Pretend   \n",
       "13914   13914                             Alice: Madness Returns   \n",
       "13915   13915                                     Concrete Genie   \n",
       "13916   13916  Lemony Snicket's A Series of Unfortunate Event...   \n",
       "\n",
       "                                                    tags  \n",
       "0      ziggurat (2012) action button entertainment ac...  \n",
       "1        4x4 evo 2 terminal reality auto racing sim xbox  \n",
       "2      motogp 2 (2001) namco auto racing sim playstat...  \n",
       "3                  gothic 3 piranha bytes western rpg pc  \n",
       "4      siege survival: gloria victis fishtankstudio r...  \n",
       "...                                                  ...  \n",
       "13912  dragon age: origins - awakening bioware wester...  \n",
       "13913  lover pretend idea factory visual novel ninten...  \n",
       "13914     alice: madness returns spicy horse survival pc  \n",
       "13915  concrete genie pixel opus third-person adventu...  \n",
       "13916  lemony snicket's a series of unfortunate event...  \n",
       "\n",
       "[13917 rows x 3 columns]"
      ]
     },
     "execution_count": 49,
     "metadata": {},
     "output_type": "execute_result"
    }
   ],
   "source": [
    "df"
   ]
  },
  {
   "cell_type": "code",
   "execution_count": 50,
   "metadata": {},
   "outputs": [
    {
     "data": {
      "text/html": [
       "<div>\n",
       "<style scoped>\n",
       "    .dataframe tbody tr th:only-of-type {\n",
       "        vertical-align: middle;\n",
       "    }\n",
       "\n",
       "    .dataframe tbody tr th {\n",
       "        vertical-align: top;\n",
       "    }\n",
       "\n",
       "    .dataframe thead th {\n",
       "        text-align: right;\n",
       "    }\n",
       "</style>\n",
       "<table border=\"1\" class=\"dataframe\">\n",
       "  <thead>\n",
       "    <tr style=\"text-align: right;\">\n",
       "      <th></th>\n",
       "      <th>gameid</th>\n",
       "      <th>title</th>\n",
       "      <th>tags</th>\n",
       "    </tr>\n",
       "  </thead>\n",
       "  <tbody>\n",
       "    <tr>\n",
       "      <th>0</th>\n",
       "      <td>0</td>\n",
       "      <td>Ziggurat (2012)</td>\n",
       "      <td>ziggurat (2012) action button entertainment ac...</td>\n",
       "    </tr>\n",
       "    <tr>\n",
       "      <th>1</th>\n",
       "      <td>1</td>\n",
       "      <td>4X4 EVO 2</td>\n",
       "      <td>4x4 evo 2 terminal reality auto racing sim xbox</td>\n",
       "    </tr>\n",
       "    <tr>\n",
       "      <th>2</th>\n",
       "      <td>2</td>\n",
       "      <td>MotoGP 2 (2001)</td>\n",
       "      <td>motogp 2 (2001) namco auto racing sim playstat...</td>\n",
       "    </tr>\n",
       "    <tr>\n",
       "      <th>3</th>\n",
       "      <td>3</td>\n",
       "      <td>Gothic 3</td>\n",
       "      <td>gothic 3 piranha bytes western rpg pc</td>\n",
       "    </tr>\n",
       "    <tr>\n",
       "      <th>4</th>\n",
       "      <td>4</td>\n",
       "      <td>Siege Survival: Gloria Victis</td>\n",
       "      <td>siege survival: gloria victis fishtankstudio r...</td>\n",
       "    </tr>\n",
       "  </tbody>\n",
       "</table>\n",
       "</div>"
      ],
      "text/plain": [
       "   gameid                          title  \\\n",
       "0       0                Ziggurat (2012)   \n",
       "1       1                      4X4 EVO 2   \n",
       "2       2                MotoGP 2 (2001)   \n",
       "3       3                       Gothic 3   \n",
       "4       4  Siege Survival: Gloria Victis   \n",
       "\n",
       "                                                tags  \n",
       "0  ziggurat (2012) action button entertainment ac...  \n",
       "1    4x4 evo 2 terminal reality auto racing sim xbox  \n",
       "2  motogp 2 (2001) namco auto racing sim playstat...  \n",
       "3              gothic 3 piranha bytes western rpg pc  \n",
       "4  siege survival: gloria victis fishtankstudio r...  "
      ]
     },
     "execution_count": 50,
     "metadata": {},
     "output_type": "execute_result"
    }
   ],
   "source": [
    "df.head()"
   ]
  },
  {
   "cell_type": "code",
   "execution_count": 51,
   "metadata": {},
   "outputs": [],
   "source": [
    "from sklearn.feature_extraction.text import CountVectorizer\n",
    "cv=CountVectorizer(max_features=7000,stop_words='english')"
   ]
  },
  {
   "cell_type": "code",
   "execution_count": 52,
   "metadata": {},
   "outputs": [],
   "source": [
    "vectors=cv.fit_transform(df['tags']).toarray()"
   ]
  },
  {
   "cell_type": "code",
   "execution_count": 53,
   "metadata": {},
   "outputs": [
    {
     "data": {
      "text/plain": [
       "array([[0, 0, 0, ..., 0, 0, 0],\n",
       "       [0, 0, 0, ..., 0, 0, 0],\n",
       "       [0, 0, 0, ..., 0, 0, 0],\n",
       "       ...,\n",
       "       [0, 0, 0, ..., 0, 0, 0],\n",
       "       [0, 0, 0, ..., 0, 0, 0],\n",
       "       [0, 0, 0, ..., 0, 0, 0]])"
      ]
     },
     "execution_count": 53,
     "metadata": {},
     "output_type": "execute_result"
    }
   ],
   "source": [
    "vectors"
   ]
  },
  {
   "cell_type": "code",
   "execution_count": 54,
   "metadata": {},
   "outputs": [
    {
     "data": {
      "text/plain": [
       "array([0, 0, 0, ..., 0, 0, 0])"
      ]
     },
     "execution_count": 54,
     "metadata": {},
     "output_type": "execute_result"
    }
   ],
   "source": [
    "vectors[10]"
   ]
  },
  {
   "cell_type": "code",
   "execution_count": 55,
   "metadata": {},
   "outputs": [
    {
     "data": {
      "text/plain": [
       "array(['000', '007', '01', ..., 'zworkbench', 'zx', 'zynga'], dtype=object)"
      ]
     },
     "execution_count": 55,
     "metadata": {},
     "output_type": "execute_result"
    }
   ],
   "source": [
    "cv.get_feature_names_out()"
   ]
  },
  {
   "cell_type": "code",
   "execution_count": 56,
   "metadata": {},
   "outputs": [],
   "source": [
    "import nltk\n",
    "from nltk.stem.porter import PorterStemmer\n",
    "ps=PorterStemmer()"
   ]
  },
  {
   "cell_type": "code",
   "execution_count": 57,
   "metadata": {},
   "outputs": [],
   "source": [
    "def stem(text):\n",
    "    y=[]\n",
    "    for i in text.split():\n",
    "        y.append(ps.stem(i))\n",
    "    return \" \".join(y)"
   ]
  },
  {
   "cell_type": "code",
   "execution_count": 58,
   "metadata": {},
   "outputs": [],
   "source": [
    "df['tags']=df['tags'].apply(stem)"
   ]
  },
  {
   "cell_type": "code",
   "execution_count": 59,
   "metadata": {},
   "outputs": [
    {
     "data": {
      "text/html": [
       "<div>\n",
       "<style scoped>\n",
       "    .dataframe tbody tr th:only-of-type {\n",
       "        vertical-align: middle;\n",
       "    }\n",
       "\n",
       "    .dataframe tbody tr th {\n",
       "        vertical-align: top;\n",
       "    }\n",
       "\n",
       "    .dataframe thead th {\n",
       "        text-align: right;\n",
       "    }\n",
       "</style>\n",
       "<table border=\"1\" class=\"dataframe\">\n",
       "  <thead>\n",
       "    <tr style=\"text-align: right;\">\n",
       "      <th></th>\n",
       "      <th>gameid</th>\n",
       "      <th>title</th>\n",
       "      <th>tags</th>\n",
       "    </tr>\n",
       "  </thead>\n",
       "  <tbody>\n",
       "    <tr>\n",
       "      <th>0</th>\n",
       "      <td>0</td>\n",
       "      <td>Ziggurat (2012)</td>\n",
       "      <td>ziggurat (2012) action button entertain action...</td>\n",
       "    </tr>\n",
       "    <tr>\n",
       "      <th>1</th>\n",
       "      <td>1</td>\n",
       "      <td>4X4 EVO 2</td>\n",
       "      <td>4x4 evo 2 termin realiti auto race sim xbox</td>\n",
       "    </tr>\n",
       "    <tr>\n",
       "      <th>2</th>\n",
       "      <td>2</td>\n",
       "      <td>MotoGP 2 (2001)</td>\n",
       "      <td>motogp 2 (2001) namco auto race sim playstation2</td>\n",
       "    </tr>\n",
       "    <tr>\n",
       "      <th>3</th>\n",
       "      <td>3</td>\n",
       "      <td>Gothic 3</td>\n",
       "      <td>gothic 3 piranha byte western rpg pc</td>\n",
       "    </tr>\n",
       "    <tr>\n",
       "      <th>4</th>\n",
       "      <td>4</td>\n",
       "      <td>Siege Survival: Gloria Victis</td>\n",
       "      <td>sieg survival: gloria victi fishtankstudio rpg pc</td>\n",
       "    </tr>\n",
       "  </tbody>\n",
       "</table>\n",
       "</div>"
      ],
      "text/plain": [
       "   gameid                          title  \\\n",
       "0       0                Ziggurat (2012)   \n",
       "1       1                      4X4 EVO 2   \n",
       "2       2                MotoGP 2 (2001)   \n",
       "3       3                       Gothic 3   \n",
       "4       4  Siege Survival: Gloria Victis   \n",
       "\n",
       "                                                tags  \n",
       "0  ziggurat (2012) action button entertain action...  \n",
       "1        4x4 evo 2 termin realiti auto race sim xbox  \n",
       "2   motogp 2 (2001) namco auto race sim playstation2  \n",
       "3               gothic 3 piranha byte western rpg pc  \n",
       "4  sieg survival: gloria victi fishtankstudio rpg pc  "
      ]
     },
     "execution_count": 59,
     "metadata": {},
     "output_type": "execute_result"
    }
   ],
   "source": [
    "df.head()"
   ]
  },
  {
   "cell_type": "code",
   "execution_count": 60,
   "metadata": {},
   "outputs": [],
   "source": [
    "from sklearn.metrics.pairwise import cosine_similarity"
   ]
  },
  {
   "cell_type": "code",
   "execution_count": 61,
   "metadata": {},
   "outputs": [],
   "source": [
    "similarity=cosine_similarity(vectors)"
   ]
  },
  {
   "cell_type": "code",
   "execution_count": 62,
   "metadata": {},
   "outputs": [
    {
     "data": {
      "text/plain": [
       "array([1., 0., 0., ..., 0., 0., 0.])"
      ]
     },
     "execution_count": 62,
     "metadata": {},
     "output_type": "execute_result"
    }
   ],
   "source": [
    "similarity[0]"
   ]
  },
  {
   "cell_type": "code",
   "execution_count": 63,
   "metadata": {},
   "outputs": [
    {
     "data": {
      "text/html": [
       "<div>\n",
       "<style scoped>\n",
       "    .dataframe tbody tr th:only-of-type {\n",
       "        vertical-align: middle;\n",
       "    }\n",
       "\n",
       "    .dataframe tbody tr th {\n",
       "        vertical-align: top;\n",
       "    }\n",
       "\n",
       "    .dataframe thead th {\n",
       "        text-align: right;\n",
       "    }\n",
       "</style>\n",
       "<table border=\"1\" class=\"dataframe\">\n",
       "  <thead>\n",
       "    <tr style=\"text-align: right;\">\n",
       "      <th></th>\n",
       "      <th>gameid</th>\n",
       "      <th>title</th>\n",
       "      <th>tags</th>\n",
       "    </tr>\n",
       "  </thead>\n",
       "  <tbody>\n",
       "    <tr>\n",
       "      <th>0</th>\n",
       "      <td>0</td>\n",
       "      <td>Ziggurat (2012)</td>\n",
       "      <td>ziggurat (2012) action button entertain action...</td>\n",
       "    </tr>\n",
       "    <tr>\n",
       "      <th>1</th>\n",
       "      <td>1</td>\n",
       "      <td>4X4 EVO 2</td>\n",
       "      <td>4x4 evo 2 termin realiti auto race sim xbox</td>\n",
       "    </tr>\n",
       "    <tr>\n",
       "      <th>2</th>\n",
       "      <td>2</td>\n",
       "      <td>MotoGP 2 (2001)</td>\n",
       "      <td>motogp 2 (2001) namco auto race sim playstation2</td>\n",
       "    </tr>\n",
       "    <tr>\n",
       "      <th>3</th>\n",
       "      <td>3</td>\n",
       "      <td>Gothic 3</td>\n",
       "      <td>gothic 3 piranha byte western rpg pc</td>\n",
       "    </tr>\n",
       "    <tr>\n",
       "      <th>4</th>\n",
       "      <td>4</td>\n",
       "      <td>Siege Survival: Gloria Victis</td>\n",
       "      <td>sieg survival: gloria victi fishtankstudio rpg pc</td>\n",
       "    </tr>\n",
       "  </tbody>\n",
       "</table>\n",
       "</div>"
      ],
      "text/plain": [
       "   gameid                          title  \\\n",
       "0       0                Ziggurat (2012)   \n",
       "1       1                      4X4 EVO 2   \n",
       "2       2                MotoGP 2 (2001)   \n",
       "3       3                       Gothic 3   \n",
       "4       4  Siege Survival: Gloria Victis   \n",
       "\n",
       "                                                tags  \n",
       "0  ziggurat (2012) action button entertain action...  \n",
       "1        4x4 evo 2 termin realiti auto race sim xbox  \n",
       "2   motogp 2 (2001) namco auto race sim playstation2  \n",
       "3               gothic 3 piranha byte western rpg pc  \n",
       "4  sieg survival: gloria victi fishtankstudio rpg pc  "
      ]
     },
     "execution_count": 63,
     "metadata": {},
     "output_type": "execute_result"
    }
   ],
   "source": [
    "df.head()"
   ]
  },
  {
   "cell_type": "code",
   "execution_count": 64,
   "metadata": {},
   "outputs": [
    {
     "data": {
      "text/plain": [
       "array([[1.        , 0.        , 0.        , ..., 0.        , 0.        ,\n",
       "        0.        ],\n",
       "       [0.        , 1.        , 0.40089186, ..., 0.        , 0.        ,\n",
       "        0.        ],\n",
       "       [0.        , 0.40089186, 1.        , ..., 0.        , 0.        ,\n",
       "        0.        ],\n",
       "       ...,\n",
       "       [0.        , 0.        , 0.        , ..., 1.        , 0.        ,\n",
       "        0.        ],\n",
       "       [0.        , 0.        , 0.        , ..., 0.        , 1.        ,\n",
       "        0.        ],\n",
       "       [0.        , 0.        , 0.        , ..., 0.        , 0.        ,\n",
       "        1.        ]])"
      ]
     },
     "execution_count": 64,
     "metadata": {},
     "output_type": "execute_result"
    }
   ],
   "source": [
    "similarity"
   ]
  },
  {
   "cell_type": "code",
   "execution_count": 65,
   "metadata": {},
   "outputs": [
    {
     "data": {
      "text/plain": [
       "array([1., 0., 0., ..., 0., 0., 0.])"
      ]
     },
     "execution_count": 65,
     "metadata": {},
     "output_type": "execute_result"
    }
   ],
   "source": [
    "similarity[0]"
   ]
  },
  {
   "cell_type": "code",
   "execution_count": 66,
   "metadata": {},
   "outputs": [
    {
     "data": {
      "text/plain": [
       "[(633, 0.7385489458759965),\n",
       " (7494, 0.6837634587578276),\n",
       " (8737, 0.6837634587578276),\n",
       " (1937, 0.6741998624632421),\n",
       " (4020, 0.6741998624632421),\n",
       " (4135, 0.6741998624632421),\n",
       " (4993, 0.6741998624632421),\n",
       " (6031, 0.6741998624632421),\n",
       " (9466, 0.6741998624632421)]"
      ]
     },
     "execution_count": 66,
     "metadata": {},
     "output_type": "execute_result"
    }
   ],
   "source": [
    "sorted(list(enumerate(similarity[0])),reverse=True,key=lambda x:x[1])[1:10]"
   ]
  },
  {
   "cell_type": "code",
   "execution_count": 67,
   "metadata": {},
   "outputs": [],
   "source": [
    "def recommend(game):\n",
    "    game_index=df[df['title']==game].index[0]\n",
    "    distances=similarity[game_index]\n",
    "    games_list=sorted(list(enumerate(distances)),reverse=True,key=lambda x:x[1])[1:6]\n",
    "    \n",
    "    for i in games_list:\n",
    "        print(df.iloc[i[0]].title)"
   ]
  },
  {
   "cell_type": "code",
   "execution_count": 68,
   "metadata": {},
   "outputs": [
    {
     "name": "stdout",
     "output_type": "stream",
     "text": [
      "MotoGP 3\n",
      "MotoGP 4\n",
      "MotoGP (2000)\n",
      "R: Racing Evolution\n",
      "F1 2001\n"
     ]
    }
   ],
   "source": [
    "recommend('MotoGP 2 (2001)')"
   ]
  },
  {
   "cell_type": "code",
   "execution_count": 69,
   "metadata": {},
   "outputs": [],
   "source": [
    "import pickle"
   ]
  },
  {
   "cell_type": "code",
   "execution_count": 72,
   "metadata": {},
   "outputs": [],
   "source": [
    "#converting data frame to dictionary because seedha datafram pickle through bhej kay nai chal raha tha\n",
    "pickle.dump(df.to_dict(),(open('games.pkl','wb')))"
   ]
  },
  {
   "cell_type": "code",
   "execution_count": 71,
   "metadata": {},
   "outputs": [],
   "source": [
    "pickle.dump(similarity,open('similarity.pkl','wb'))"
   ]
  },
  {
   "cell_type": "code",
   "execution_count": null,
   "metadata": {},
   "outputs": [],
   "source": []
  }
 ],
 "metadata": {
  "kernelspec": {
   "display_name": "base",
   "language": "python",
   "name": "python3"
  },
  "language_info": {
   "codemirror_mode": {
    "name": "ipython",
    "version": 3
   },
   "file_extension": ".py",
   "mimetype": "text/x-python",
   "name": "python",
   "nbconvert_exporter": "python",
   "pygments_lexer": "ipython3",
   "version": "3.12.7"
  }
 },
 "nbformat": 4,
 "nbformat_minor": 2
}
